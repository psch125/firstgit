{
 "cells": [
  {
   "cell_type": "markdown",
   "metadata": {},
   "source": [
    "## 깃허브 사용을 위한 예제 코드~"
   ]
  },
  {
   "cell_type": "code",
   "execution_count": 7,
   "metadata": {},
   "outputs": [
    {
     "name": "stdout",
     "output_type": "stream",
     "text": [
      "Hwi \n",
      " Hello World~! \n",
      " who's next?\n"
     ]
    }
   ],
   "source": [
    "#2021.10.25\n",
    "print('Hwi', '\\n', 'Hello World~!', '\\n', \"who's next?\")"
   ]
  },
  {
   "cell_type": "code",
   "execution_count": 1,
   "metadata": {},
   "outputs": [
    {
     "name": "stdout",
     "output_type": "stream",
     "text": [
      "솔부엉이 부엉 부엉\n"
     ]
    }
   ],
   "source": [
    "#2021.10.25\n",
    "print('솔부엉이 부엉 부엉')"
   ]
  },
  {
   "cell_type": "code",
   "execution_count": 2,
   "metadata": {},
   "outputs": [
    {
     "name": "stdout",
     "output_type": "stream",
     "text": [
      "새로운 데이터 입력됨.\n"
     ]
    }
   ],
   "source": [
    "#2021.10.30\n",
    "print('새로운 데이터 입력됨.')"
   ]
  },
  {
   "cell_type": "code",
   "execution_count": 1,
   "metadata": {},
   "outputs": [],
   "source": [
    "# ---------------------------------------------------------------------------\n",
    "# ValueError                                Traceback (most recent call last)\n",
    "# <ipython-input-18-48d4d0053d39> in <module>\n",
    "#       5 model.save_model(filename)\n",
    "#       6 prediction = model.predict(pred_data)\n",
    "# ----> 7 rmse = mean_squared_error(validate_y, prediction, squared=False)\n",
    "\n",
    "# D:\\ANACONDA1\\lib\\site-packages\\sklearn\\utils\\validation.py in inner_f(*args, **kwargs)\n",
    "#      70                           FutureWarning)\n",
    "#      71         kwargs.update({k: arg for k, arg in zip(sig.parameters, args)})\n",
    "# ---> 72         return f(**kwargs)\n",
    "#      73     return inner_f\n",
    "#      74 \n",
    "\n",
    "# D:\\ANACONDA1\\lib\\site-packages\\sklearn\\metrics\\_regression.py in mean_squared_error(y_true, y_pred, sample_weight, multioutput, squared)\n",
    "#     253 \n",
    "#     254     \"\"\"\n",
    "# --> 255     y_type, y_true, y_pred, multioutput = _check_reg_targets(\n",
    "#     256         y_true, y_pred, multioutput)\n",
    "#     257     check_consistent_length(y_true, y_pred, sample_weight)\n",
    "\n",
    "# D:\\ANACONDA1\\lib\\site-packages\\sklearn\\metrics\\_regression.py in _check_reg_targets(y_true, y_pred, multioutput, dtype)\n",
    "#      82 \n",
    "#      83     \"\"\"\n",
    "# ---> 84     check_consistent_length(y_true, y_pred)\n",
    "#      85     y_true = check_array(y_true, ensure_2d=False, dtype=dtype)\n",
    "#      86     y_pred = check_array(y_pred, ensure_2d=False, dtype=dtype)\n",
    "\n",
    "# D:\\ANACONDA1\\lib\\site-packages\\sklearn\\utils\\validation.py in check_consistent_length(*arrays)\n",
    "#     253     uniques = np.unique(lengths)\n",
    "#     254     if len(uniques) > 1:\n",
    "# --> 255         raise ValueError(\"Found input variables with inconsistent numbers of\"\n",
    "#     256                          \" samples: %r\" % [int(l) for l in lengths])\n",
    "#     257 \n",
    "\n",
    "# ValueError: Found input variables with inconsistent numbers of samples: [203442, 41088]"
   ]
  },
  {
   "cell_type": "code",
   "execution_count": null,
   "metadata": {},
   "outputs": [],
   "source": []
  }
 ],
 "metadata": {
  "kernelspec": {
   "display_name": "Python 3",
   "language": "python",
   "name": "python3"
  },
  "language_info": {
   "codemirror_mode": {
    "name": "ipython",
    "version": 3
   },
   "file_extension": ".py",
   "mimetype": "text/x-python",
   "name": "python",
   "nbconvert_exporter": "python",
   "pygments_lexer": "ipython3",
   "version": "3.8.5"
  }
 },
 "nbformat": 4,
 "nbformat_minor": 5
}
